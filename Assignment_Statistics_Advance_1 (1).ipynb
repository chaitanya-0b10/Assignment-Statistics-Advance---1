{
 "cells": [
  {
   "cell_type": "markdown",
   "id": "fe725cbd-f3af-4e4c-9f07-964288ee9475",
   "metadata": {},
   "source": [
    "### Assignment: Statistics Advance - 1"
   ]
  },
  {
   "cell_type": "markdown",
   "id": "5a258314-0f7e-44a5-ac9b-80f7da61e993",
   "metadata": {},
   "source": [
    "Q1. Define the z-statistic and explain its relationship to the standard normal distribution. How is the\n",
    "z-statistic used in hypothesis testing?"
   ]
  },
  {
   "cell_type": "markdown",
   "id": "7f12b5e7-36ed-4988-986b-7acecd161488",
   "metadata": {},
   "source": [
    "The z-statistic (or z-score) is a measure that describes the position of a raw score\n",
    "in terms of its distance from the mean, measured in standard deviations.\n",
    "\n",
    "Relationship to the standard normal distribution=>\n",
    "The z-statistic transforms any normal distribution into the standard normal distribution, \n",
    "which has a mean of 0 and a standard deviation of 1. This transformation \n",
    "allows for the comparison of scores from different normal distributions. \n",
    "The standard normal distribution is a key concept in statistics because it provides\n",
    "a basis for calculating probabilities and critical values.\n"
   ]
  },
  {
   "cell_type": "code",
   "execution_count": 27,
   "id": "1e5f184a-565d-4ee1-90c8-fb580580ef96",
   "metadata": {},
   "outputs": [
    {
     "name": "stdout",
     "output_type": "stream",
     "text": [
      "Z-Statistic: 1.5976240527147705\n",
      "P-Value: 0.1101266701438426\n"
     ]
    }
   ],
   "source": [
    "#How is the z-statistic used in hypothesis testing?\n",
    "import numpy as np\n",
    "from statsmodels.stats.weightstats import ztest\n",
    "\n",
    "data = [88, 92, 94, 94, 96, 97, 97, 97, 99, 99, 105, 109, 109, 109, 110, 112, 112, 113, 114, 115]\n",
    "\n",
    "z_stat, p_value = ztest(data, value=100)\n",
    "\n",
    "print(f\"Z-Statistic: {z_stat}\")\n",
    "print(f\"P-Value: {p_value}\")\n"
   ]
  },
  {
   "cell_type": "markdown",
   "id": "8dc5c839-14be-4dbe-9329-74f7c240271b",
   "metadata": {},
   "source": [
    "Question2 : What is a p-value, and how is it used in hypothesis testing? What does it mean if the p-value is\n",
    "very small (e.g., 0.01)?"
   ]
  },
  {
   "cell_type": "markdown",
   "id": "f9570ba5-e23c-497b-832b-8fbe3395a1e1",
   "metadata": {},
   "source": [
    "A p-value is a measure used in statistical hypothesis testing to help determine the\n",
    "significance of your results. It represents the probability of obtaining test results \n",
    "at least as extreme as the observed results, assuming that the null hypothesis is true\n",
    "\n",
    "If  testing whether a new drug is more effective than a placebo, and you obtain\n",
    "a p-value of 0.01, it suggests that there is only a 1% probability that the observed difference\n",
    "in effectiveness is due to random chance. Therefore,  would reject the null hypothesis \n",
    "(that the drug has no effect) and conclude that the drug is likely effective."
   ]
  },
  {
   "cell_type": "markdown",
   "id": "9fc78e5b-392a-4d74-821d-9364e889ff50",
   "metadata": {},
   "source": [
    "Question3: Compare and contrast the binomial and Bernoulli distributions. "
   ]
  },
  {
   "cell_type": "markdown",
   "id": "79d6da74-f024-4ab7-93f4-19b9fa8101df",
   "metadata": {},
   "source": [
    "Number of Trials->\n",
    "    Bernoulli: Single trial.\n",
    "    Binomial: Multiple trials (fixed number ( n )).\n",
    "Outcomes:->\n",
    "    Bernoulli: Two possible outcomes (0 or 1).\n",
    "    Binomial: Multiple possible outcomes (0 to ( n ) successes).\n",
    "Use Cases:->\n",
    "    Bernoulli: Used for modeling a single event with two outcomes.\n",
    "    Binomial: Used for modeling the number of successes in a series of independent Bernoulli trials."
   ]
  },
  {
   "cell_type": "code",
   "execution_count": null,
   "id": "9a83c177-d66f-4110-8826-b7e314dc7067",
   "metadata": {},
   "outputs": [],
   "source": []
  },
  {
   "cell_type": "markdown",
   "id": "43a017fd-542a-4db0-885f-40bc02166edb",
   "metadata": {},
   "source": [
    "Question 4: Under what conditions is the binomial distribution used, and how does it relate to the Bernoulli distribution?"
   ]
  },
  {
   "cell_type": "markdown",
   "id": "779f6b84-7f4a-4746-897a-a17429939bce",
   "metadata": {},
   "source": [
    "1.Fixed Number of Trials ((n)): There are a set number of independent trials.\n"
   ]
  },
  {
   "cell_type": "markdown",
   "id": "4ce0dcd0-ce17-42e2-8992-a3998ffd206c",
   "metadata": {},
   "source": [
    "2.Binary Outcomes: Each trial results in one of two outcomes: success or failure."
   ]
  },
  {
   "cell_type": "markdown",
   "id": "08d7a889-4ebe-47b3-8363-e1e649cdc69c",
   "metadata": {},
   "source": [
    "3.Constant Probability of Success ((p)): The probability of success remains the same for each trial."
   ]
  },
  {
   "cell_type": "markdown",
   "id": "49a8a1b2-127e-4712-9716-c85a061ee186",
   "metadata": {},
   "source": [
    "4.Independence: The outcome of one trial does not affect the outcome of another trial."
   ]
  },
  {
   "cell_type": "markdown",
   "id": "52173fa8-5569-4d0d-a771-7ab4dd65f4b4",
   "metadata": {},
   "source": [
    "Relationship to the Bernoulli Distribution-> \n",
    "The Bernoulli distribution is a special case of the binomial distribution where the number of trials (n) is 1.\n",
    "\n",
    "1]Bernoulli Distribution:-> Represents a single trial with two possible outcomes (success or failure). \n",
    "It has one parameter, (p), the probability of success.\n",
    "2]Binomial Distribution:-> Represents the number of successes in (n) independent Bernoulli trials. \n",
    "3]It has two parameters:-> (n) (number of trials) and (p) (probability of success)."
   ]
  },
  {
   "cell_type": "code",
   "execution_count": null,
   "id": "a9fda43d-1194-4b60-bd6d-f4cfbb07834f",
   "metadata": {},
   "outputs": [],
   "source": []
  },
  {
   "cell_type": "markdown",
   "id": "5d3f7c70-1136-48cc-b5b2-46035cdcc6d9",
   "metadata": {},
   "source": [
    " Question5: What are the key properties of the Poisson distribution, and when is it appropriate to use this \n",
    "distribution?"
   ]
  },
  {
   "cell_type": "markdown",
   "id": "c407fb7a-aff4-4dea-b0a1-595e37543f0a",
   "metadata": {},
   "source": [
    "Discrete Distribution: The Poisson distribution deals with discrete events, meaning it counts occurrences that can be enumerated (e.g., number of emails received in an hour)."
   ]
  },
  {
   "cell_type": "markdown",
   "id": "d21456b8-1407-42e2-a50d-ca1fa46a3524",
   "metadata": {},
   "source": [
    "Discrete Nature: The Poisson distribution is used for discrete events, meaning it counts occurrences that can be enumerated (e.g., number of emails received per hour).\n",
    "Parameter: The distribution is characterized by a single parameter,(lambda), which represents the average rate (mean) of occurrences within the given interval.\n",
    "Mean and Variance: Both the mean and variance of the Poisson distribution are equal to lambda.\n",
    "Independence: Events occur independently of each other.\n",
    "Constant Rate: The rate at which events occur is constant over time or space."
   ]
  },
  {
   "cell_type": "markdown",
   "id": "23dc5942-a51c-4ee2-a94d-d61f004db385",
   "metadata": {},
   "source": [
    "USE->\n",
    "Rare Events: It is suitable for modeling rare events over a large number of trials or a long period.\n",
    "Fixed Interval: When you are interested in the number of occurrences within a fixed interval of time or space.\n",
    "Independence: When the events occur independently of each other.\n",
    "Constant Rate: When the average rate of occurrence is constant over the interval."
   ]
  },
  {
   "cell_type": "code",
   "execution_count": null,
   "id": "ee2c61ab-22b8-4779-8008-b444ceb91d3a",
   "metadata": {},
   "outputs": [],
   "source": []
  },
  {
   "cell_type": "markdown",
   "id": "23ab9ce3-a5c8-40e6-a86a-2ec962eaac92",
   "metadata": {},
   "source": [
    "Question6: Define the terms \"probability distribution\" and \"probability density function\" (PDF). How does a\n",
    "PDF differ from a probability mass function (PMF)?"
   ]
  },
  {
   "cell_type": "markdown",
   "id": "86478d18-9576-46c1-995d-61e41849b2a4",
   "metadata": {},
   "source": [
    "Probability Distribution\n",
    "A probability distribution describes how the values of a random variable are distributed. It provides the probabilities of occurrence of different possible outcomes in an experiment.\n",
    "\n",
    "Probability Density Function (PDF)\n",
    "A Probability Density Function (PDF) is used to specify the probability of a continuous random variable falling within a particular range of values, rather than taking on any one value. The PDF is a function that describes the relative likelihood for this random variable to take on a given value. The area under the PDF curve over an interval represents the probability that the variable falls within that interval."
   ]
  },
  {
   "cell_type": "markdown",
   "id": "a5a69bc2-3400-46e1-92bc-5889d2da444b",
   "metadata": {},
   "source": [
    "differ->\n",
    "Type of Variable: PDF is used for continuous random variables, while PMF is used for discrete random variables.\n",
    "Representation: PDF represents probabilities as areas under a curve, whereas PMF represents probabilities as heights of bars.\n",
    "Calculation: Probabilities in a PDF are calculated using integrals, while in a PMF, they are calculated using summation."
   ]
  },
  {
   "cell_type": "code",
   "execution_count": null,
   "id": "841da958-6b7d-409e-9547-42cdde02d966",
   "metadata": {},
   "outputs": [],
   "source": []
  },
  {
   "cell_type": "markdown",
   "id": "c9d75d0e-2291-4e2f-9607-82358e059f1e",
   "metadata": {},
   "source": [
    "Question7: Explain the Central Limit Theorem (CLT) with example."
   ]
  },
  {
   "cell_type": "markdown",
   "id": "4debf7b4-c107-4ae5-8f87-00087d2bd581",
   "metadata": {},
   "source": [
    "Central Limit Theorem (CLT)\n",
    "The Central Limit Theorem (CLT) is a fundamental principle in statistics that states that the distribution of the sample means will approximate a normal distribution (Gaussian distribution), regardless of the shape of the population distribution, provided the sample size is sufficiently large."
   ]
  },
  {
   "cell_type": "markdown",
   "id": "7182f9c7-8a65-4060-819f-80d7af963a04",
   "metadata": {},
   "source": [
    "Example ->\n",
    "Surveys: Pollsters use the CLT to estimate the average opinion or behavior of a population based on sample surveys."
   ]
  },
  {
   "cell_type": "code",
   "execution_count": null,
   "id": "fec3a206-f6c9-4414-8fb2-94c04be6ad4e",
   "metadata": {},
   "outputs": [],
   "source": []
  },
  {
   "cell_type": "markdown",
   "id": "92b50c8e-7e03-4ae9-a33d-2ff2b45cfa13",
   "metadata": {},
   "source": [
    "Question8: Compare z-scores and t-scores. When should you use a z-score, and when should a t-score be applied instead?\n"
   ]
  },
  {
   "cell_type": "markdown",
   "id": "3c7fde1e-99ef-4ee1-9444-50cb8e61b3ff",
   "metadata": {},
   "source": [
    "Sample Size: Use z-scores for large samples and t-scores for small samples.\n",
    "Population Standard Deviation: Use z-scores when the population standard deviation is known, and t-scores when it is unknown.\n",
    "Distribution: Z-scores follow the standard normal distribution, while t-scores follow the t-distribution, which accounts for additional variability in small samples."
   ]
  },
  {
   "cell_type": "markdown",
   "id": "027fcbbb-3d5e-40ff-94ba-f2f35f15cdeb",
   "metadata": {},
   "source": [
    "z-score used\n",
    "Standardized Testing: Comparing individual test scores to the overall distribution of scores when the mean and standard deviation of the test scores are known.\n",
    "Quality Control: Assessing whether a product measurement deviates significantly from the target value when the process mean and standard deviation are known."
   ]
  },
  {
   "cell_type": "markdown",
   "id": "0ba03f6a-7132-4c1e-8536-cd9e7a1aa187",
   "metadata": {},
   "source": [
    "t-scored used\n",
    "Small Sample Research: Comparing the mean of a small sample to a known population mean when the population standard deviation is unknown.\n",
    "Clinical Trials: Analyzing the effectiveness of a new treatment based on a small group of patients.\n",
    "Academic Studies: Conducting experiments with limited participants and needing to infer the results to a larger population."
   ]
  },
  {
   "cell_type": "markdown",
   "id": "081d4bef-16b3-4ee8-aab2-91e794d9e4dc",
   "metadata": {},
   "source": [
    "Question9: Given a sample mean of 105, a population mean of 100, a standard deviation of 15, and a sample\n",
    "size of 25, calculate the z-score and p-value. Based on a significance level of 0.05, do you reject or fail to\n",
    "reject the null hypothesis?\n",
    "\n",
    " Task: Write Python code to calculate the z-score and p-value for the given data.\n",
    "\n",
    "Objective: Apply the formula for the z-score and interpret the p-value for hypothesis testing."
   ]
  },
  {
   "cell_type": "code",
   "execution_count": 53,
   "id": "fa076ae9-d12c-4995-aba7-a234fec0ae82",
   "metadata": {},
   "outputs": [
    {
     "name": "stdout",
     "output_type": "stream",
     "text": [
      "Z-Score: 1.6666666666666667\n",
      "P-Value: 0.09558070454562939\n"
     ]
    }
   ],
   "source": [
    "import scipy.stats as stats\n",
    "import math\n",
    "\n",
    "sample_mean = 105\n",
    "population_mean = 100\n",
    "std_dev = 15\n",
    "sample_size = 25\n",
    "\n",
    "standard_error = std_dev / math.sqrt(sample_size)\n",
    "\n",
    "z_score = (sample_mean - population_mean) / standard_error\n",
    "\n",
    "p_value = 2 * (1 - stats.norm.cdf(abs(z_score)))\n",
    "\n",
    "print(f\"Z-Score: {z_score}\")\n",
    "print(f\"P-Value: {p_value}\")"
   ]
  },
  {
   "cell_type": "code",
   "execution_count": null,
   "id": "891842cb-3c7d-4475-a706-c3f5d6cbeca8",
   "metadata": {},
   "outputs": [],
   "source": []
  },
  {
   "cell_type": "markdown",
   "id": "6f024c13-1563-44b8-ba04-5b8c516e2549",
   "metadata": {},
   "source": [
    "Question10: Simulate a binomial distribution with 10 trials and a probability of success of 0.6 using Python.\n",
    "Generate 1,000 samples and plot the distribution. What is the expected mean and variance?\n",
    "\n",
    "Task: Use Python to generate the data, plot the distribution, and calculate the mean and variance.\n",
    "\n",
    "Objective: Understand the properties of a binomial distribution and verify them through simulation."
   ]
  },
  {
   "cell_type": "code",
   "execution_count": 60,
   "id": "a1a22fa9-c327-44b8-b8ba-b8c2106cda2e",
   "metadata": {},
   "outputs": [
    {
     "data": {
      "image/png": "[encoded data removed]",
      "text/plain": [
       "<Figure size 640x480 with 1 Axes>"
      ]
     },
     "metadata": {},
     "output_type": "display_data"
    },
    {
     "name": "stdout",
     "output_type": "stream",
     "text": [
      "Mean: 6.048\n",
      "Variance: 2.421696\n"
     ]
    }
   ],
   "source": [
    "import numpy as np\n",
    "import matplotlib.pyplot as plt\n",
    "import seaborn as sns\n",
    "\n",
    "n = 10 \n",
    "p = 0.6 \n",
    "size = 1000  \n",
    "\n",
    "data = np.random.binomial(n, p, size)\n",
    "\n",
    "sns.histplot(data, bins=range(n+2), kde=False, stat=\"density\")\n",
    "plt.title('Binomial Distribution (n=10, p=0.6)')\n",
    "plt.xlabel('Number of Successes')\n",
    "plt.ylabel('Frequency')\n",
    "plt.show()\n",
    "\n",
    "mean = np.mean(data)\n",
    "variance = np.var(data)\n",
    "\n",
    "print(f\"Mean: {mean}\")\n",
    "print(f\"Variance: {variance}\")\n"
   ]
  },
  {
   "cell_type": "code",
   "execution_count": null,
   "id": "b6dc1104-3cfc-4425-a270-ef1aa546e226",
   "metadata": {},
   "outputs": [],
   "source": []
  },
  {
   "cell_type": "code",
   "execution_count": null,
   "id": "214f6ccc-c322-46b4-bb91-2770f9182a01",
   "metadata": {},
   "outputs": [],
   "source": []
  }
 ],
 "metadata": {
  "kernelspec": {
   "display_name": "Python 3 (ipykernel)",
   "language": "python",
   "name": "python3"
  },
  "language_info": {
   "codemirror_mode": {
    "name": "ipython",
    "version": 3
   },
   "file_extension": ".py",
   "mimetype": "text/x-python",
   "name": "python",
   "nbconvert_exporter": "python",
   "pygments_lexer": "ipython3",
   "version": "3.12.4"
  }
 },
 "nbformat": 4,
 "nbformat_minor": 5
}
